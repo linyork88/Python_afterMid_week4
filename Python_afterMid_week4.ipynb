{
 "cells": [
  {
   "cell_type": "code",
   "execution_count": 23,
   "metadata": {},
   "outputs": [],
   "source": [
    "array2=[[11,12,13],[21,22,23],[31,32,33]]"
   ]
  },
  {
   "cell_type": "code",
   "execution_count": 24,
   "metadata": {},
   "outputs": [],
   "source": [
    "import pandas as pd"
   ]
  },
  {
   "cell_type": "code",
   "execution_count": 25,
   "metadata": {},
   "outputs": [
    {
     "data": {
      "text/html": [
       "<div>\n",
       "<style scoped>\n",
       "    .dataframe tbody tr th:only-of-type {\n",
       "        vertical-align: middle;\n",
       "    }\n",
       "\n",
       "    .dataframe tbody tr th {\n",
       "        vertical-align: top;\n",
       "    }\n",
       "\n",
       "    .dataframe thead th {\n",
       "        text-align: right;\n",
       "    }\n",
       "</style>\n",
       "<table border=\"1\" class=\"dataframe\">\n",
       "  <thead>\n",
       "    <tr style=\"text-align: right;\">\n",
       "      <th></th>\n",
       "      <th>0</th>\n",
       "      <th>1</th>\n",
       "      <th>2</th>\n",
       "    </tr>\n",
       "  </thead>\n",
       "  <tbody>\n",
       "    <tr>\n",
       "      <th>0</th>\n",
       "      <td>11</td>\n",
       "      <td>12</td>\n",
       "      <td>13</td>\n",
       "    </tr>\n",
       "    <tr>\n",
       "      <th>1</th>\n",
       "      <td>21</td>\n",
       "      <td>22</td>\n",
       "      <td>23</td>\n",
       "    </tr>\n",
       "    <tr>\n",
       "      <th>2</th>\n",
       "      <td>31</td>\n",
       "      <td>32</td>\n",
       "      <td>33</td>\n",
       "    </tr>\n",
       "  </tbody>\n",
       "</table>\n",
       "</div>"
      ],
      "text/plain": [
       "    0   1   2\n",
       "0  11  12  13\n",
       "1  21  22  23\n",
       "2  31  32  33"
      ]
     },
     "execution_count": 25,
     "metadata": {},
     "output_type": "execute_result"
    }
   ],
   "source": [
    "pd.DataFrame(array2)"
   ]
  },
  {
   "cell_type": "code",
   "execution_count": 26,
   "metadata": {},
   "outputs": [
    {
     "name": "stdout",
     "output_type": "stream",
     "text": [
      "36\n"
     ]
    }
   ],
   "source": [
    "total=0\n",
    "for i in range(0,len(array2)):\n",
    "    total+= array2[0][i]\n",
    "print(total)"
   ]
  },
  {
   "cell_type": "code",
   "execution_count": 27,
   "metadata": {},
   "outputs": [
    {
     "name": "stdout",
     "output_type": "stream",
     "text": [
      "[36, 66, 96]\n"
     ]
    }
   ],
   "source": [
    "total_row=[]\n",
    "for row in range(0,len(array2)):\n",
    "    row_total=0\n",
    "    for column in range(0,len(array2[0])):\n",
    "        row_total += array2[row][column]\n",
    "    total_row.append(row_total)\n",
    "print(total_row)"
   ]
  },
  {
   "cell_type": "code",
   "execution_count": 28,
   "metadata": {},
   "outputs": [
    {
     "data": {
      "text/plain": [
       "198"
      ]
     },
     "execution_count": 28,
     "metadata": {},
     "output_type": "execute_result"
    }
   ],
   "source": [
    "sum(total_row)"
   ]
  },
  {
   "cell_type": "code",
   "execution_count": 29,
   "metadata": {},
   "outputs": [
    {
     "data": {
      "text/plain": [
       "96"
      ]
     },
     "execution_count": 29,
     "metadata": {},
     "output_type": "execute_result"
    }
   ],
   "source": [
    "max(total_row)"
   ]
  },
  {
   "cell_type": "code",
   "execution_count": 30,
   "metadata": {},
   "outputs": [
    {
     "name": "stdout",
     "output_type": "stream",
     "text": [
      "第2列最大值為96\n"
     ]
    }
   ],
   "source": [
    "total_row=[]\n",
    "for row in range(0,len(array2)):\n",
    "    row_total=0\n",
    "    for column in range(0,len(array2[0])):\n",
    "        row_total += array2[row][column]\n",
    "    total_row.append(row_total)\n",
    "for i in range(0,len(array2)):\n",
    "    if (total_row[i]==max(total_row)):\n",
    "        print('第%d列最大值為%d'%(i,total_row[i]))"
   ]
  },
  {
   "cell_type": "code",
   "execution_count": 39,
   "metadata": {},
   "outputs": [
    {
     "name": "stdout",
     "output_type": "stream",
     "text": [
      "[63, 66, 69]\n"
     ]
    }
   ],
   "source": [
    "total_colume=[]\n",
    "for column in range(0,len(array2[0])):\n",
    "    colume_total=0\n",
    "    for row in range(0,len(array2)):\n",
    "        colume_total += array2[row][column]\n",
    "    total_colume.append(colume_total)\n",
    "print(total_colume)"
   ]
  },
  {
   "cell_type": "code",
   "execution_count": null,
   "metadata": {},
   "outputs": [],
   "source": []
  },
  {
   "cell_type": "code",
   "execution_count": 20,
   "metadata": {},
   "outputs": [
    {
     "name": "stdout",
     "output_type": "stream",
     "text": [
      "[8, 3, 7, 6, 9, 1, 4]\n",
      "[1, 3, 7, 6, 9, 8, 4]\n",
      "[1, 3, 7, 6, 9, 8, 4]\n",
      "[1, 3, 4, 6, 9, 8, 7]\n",
      "[1, 3, 4, 6, 9, 8, 7]\n",
      "[1, 3, 4, 6, 7, 8, 9]\n",
      "[1, 3, 4, 6, 7, 8, 9]\n",
      "[1, 3, 4, 6, 7, 8, 9]\n"
     ]
    }
   ],
   "source": [
    "#可能會考\n",
    "array2 = [8, 3 ,7 ,6, 9, 1, 4]\n",
    "print(array2)\n",
    "\n",
    "for j in range(0, len(array2)):\n",
    "    min_value = 9999\n",
    "    min_index = -1\n",
    "    # max_value = -9999\n",
    "    # max_index = -1\n",
    "    for i in range(j, len(array2)):\n",
    "        if(array2[i]<min_value):\n",
    "            min_value = array2[i]\n",
    "            min_index = i\n",
    "    #     if(array2[i]>max_value):\n",
    "    #         max_value = array2[i]\n",
    "    #         max_index = i\n",
    "\n",
    "    temp = 0\n",
    "    if(array2[j]>min_value):\n",
    "        temp = array2[min_index] \n",
    "        array2[min_index] = array2[j]\n",
    "        array2[j] = temp\n",
    "\n",
    "    print(array2)"
   ]
  },
  {
   "cell_type": "code",
   "execution_count": null,
   "metadata": {},
   "outputs": [],
   "source": []
  },
  {
   "cell_type": "code",
   "execution_count": null,
   "metadata": {},
   "outputs": [],
   "source": []
  }
 ],
 "metadata": {
  "kernelspec": {
   "display_name": "Python 3",
   "language": "python",
   "name": "python3"
  },
  "language_info": {
   "codemirror_mode": {
    "name": "ipython",
    "version": 3
   },
   "file_extension": ".py",
   "mimetype": "text/x-python",
   "name": "python",
   "nbconvert_exporter": "python",
   "pygments_lexer": "ipython3",
   "version": "3.7.3"
  }
 },
 "nbformat": 4,
 "nbformat_minor": 2
}
